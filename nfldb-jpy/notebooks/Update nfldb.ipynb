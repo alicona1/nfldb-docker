{
 "cells": [
  {
   "cell_type": "code",
   "execution_count": 3,
   "metadata": {
    "collapsed": false
   },
   "outputs": [],
   "source": [
    "#Manually rebuild schedule\n",
    "!python2 /opt/conda/envs/python2/lib/python2.7/site-packages/nflgame/update_sched.py --rebuild"
   ]
  },
  {
   "cell_type": "code",
   "execution_count": 4,
   "metadata": {
    "collapsed": false,
    "scrolled": true
   },
   "outputs": [
    {
     "name": "stdout",
     "output_type": "stream",
     "text": [
      "-------------------------------------------------------------------------------\n",
      "STARTING NFLDB UPDATE AT 2017-01-12 21:03:44.652624\n",
      "Connecting to nfldb... done.\n",
      "Setting timezone to UTC... done.\n",
      "Updating schedule JSON database...\n",
      "Last updated: 2017-01-12 21:03:44.051407\n",
      "done.\n",
      "Updating all game schedules... Locking write access to tables... done.\n",
      "done.\n",
      "Closing database connection... done.\n",
      "FINISHED NFLDB UPDATE AT 2017-01-12 21:06:31.845859\n",
      "-------------------------------------------------------------------------------\n"
     ]
    }
   ],
   "source": [
    "#Update schedule in database\n",
    "!nfldb-update --update-schedules"
   ]
  },
  {
   "cell_type": "code",
   "execution_count": 5,
   "metadata": {
    "collapsed": false
   },
   "outputs": [
    {
     "name": "stdout",
     "output_type": "stream",
     "text": [
      "Loading games for REG 2016 week 17\n",
      "Finding (profile id -> gsis id) mapping for players...\n",
      "49/49 complete. (100.00%)\n",
      "Done!\n",
      "Downloading team rosters...\n",
      "32/32 complete. (100.00%)\n",
      "Done!\n",
      "Fetching GSIS identifiers for players not in nflgame...\n",
      "102/102 complete. (100.00%)\n",
      "Done!\n",
      "\n",
      "\n",
      "There were some errors during the download. Usually this is a\n",
      "result of an HTTP request timing out, which means the\n",
      "resulting \"players.json\" file is probably missing some data.\n",
      "An appropriate solution is to re-run the script until there\n",
      "are no more errors (or when the errors are problems on \n",
      "NFL.com side.)\n",
      "-------------------------------------------------------------------------------\n",
      "Could not get profile URL for (00-0032529, J.Maxey)\n",
      "-------------------------------------------------------------------------------\n",
      "Could not get profile URL for (00-0032793, B.Countess)\n",
      "-------------------------------------------------------------------------------\n",
      "Could not get profile URL for (00-0032014, T.Dixon)\n",
      "-------------------------------------------------------------------------------\n",
      "Could not get profile URL for (00-0032482, B.Addison)\n",
      "-------------------------------------------------------------------------------\n",
      "Could not get profile URL for (00-0032820, T.Smith)\n",
      "-------------------------------------------------------------------------------\n",
      "Could not get profile URL for (00-0032508, H.Valles)\n",
      "-------------------------------------------------------------------------------\n",
      "Could not get profile URL for (00-0032448, S.Weatherly)\n",
      "-------------------------------------------------------------------------------\n",
      "Could not get profile URL for (00-0032679, P.McRoberts)\n",
      "-------------------------------------------------------------------------------\n",
      "Could not get profile URL for (00-0032858, Q.Gause)\n",
      "-------------------------------------------------------------------------------\n",
      "Could not get profile URL for (00-0032841, P.Turner)\n",
      "-------------------------------------------------------------------------------\n",
      "Could not get profile URL for (00-0032864, A.Ellis)\n",
      "-------------------------------------------------------------------------------\n",
      "Could not get profile URL for (00-0032739, W.Williams)\n",
      "-------------------------------------------------------------------------------\n",
      "Could not get profile URL for (00-0032671, M.Fox)\n",
      "-------------------------------------------------------------------------------\n",
      "Could not get profile URL for (00-0032916, T.Williams)\n",
      "-------------------------------------------------------------------------------\n",
      "Could not get profile URL for (00-0032676, M.Jordan)\n",
      "-------------------------------------------------------------------------------\n",
      "Could not get profile URL for (00-0030396, F.Bishop)\n",
      "-------------------------------------------------------------------------------\n",
      "Could not get profile URL for (00-0032290, T.Reed)\n",
      "-------------------------------------------------------------------------------\n",
      "Could not get profile URL for (00-0032464, K.Raymond)\n",
      "-------------------------------------------------------------------------------\n",
      "Could not get profile URL for (00-0032298, B.Hill)\n",
      "-------------------------------------------------------------------------------\n",
      "Could not get profile URL for (00-0032353, C.Milton)\n",
      "-------------------------------------------------------------------------------\n",
      "Could not get profile URL for (00-0032794, D.Vitale)\n",
      "-------------------------------------------------------------------------------\n",
      "Could not get profile URL for (00-0032012, I.Fruechte)\n",
      "-------------------------------------------------------------------------------\n",
      "Could not get profile URL for (00-0031363, M.Palardy)\n",
      "-------------------------------------------------------------------------------\n",
      "Could not get profile URL for (00-0032034, T.Johnson)\n",
      "-------------------------------------------------------------------------------\n",
      "Could not get profile URL for (00-0032697, D.Middleton)\n",
      "-------------------------------------------------------------------------------\n",
      "Could not get profile URL for (00-0032375, J.Kerridge)\n",
      "-------------------------------------------------------------------------------\n",
      "Could not get profile URL for (00-0031793, T.Watson)\n",
      "-------------------------------------------------------------------------------\n",
      "Could not get profile URL for (00-0032798, H.Miller)\n",
      "-------------------------------------------------------------------------------\n",
      "Could not get profile URL for (00-0032637, A.Adams)\n",
      "-------------------------------------------------------------------------------\n",
      "Could not get profile URL for (00-0032964, B.Marshall)\n",
      "-------------------------------------------------------------------------------\n",
      "Could not get profile URL for (00-0032810, K.Reed)\n",
      "-------------------------------------------------------------------------------\n",
      "Could not get profile URL for (00-0032836, B.Keeton)\n",
      "-------------------------------------------------------------------------------\n",
      "Could not get profile URL for (00-0032592, S.Neasman)\n",
      "-------------------------------------------------------------------------------\n",
      "Could not get profile URL for (00-0032593, B.Wilds)\n",
      "-------------------------------------------------------------------------------\n",
      "Could not get profile URL for (00-0032871, An.Woods)\n",
      "-------------------------------------------------------------------------------\n",
      "Could not get profile URL for (00-0031762, B.Beyer)\n",
      "-------------------------------------------------------------------------------\n",
      "Could not get profile URL for (00-0032729, U.Kamalu)\n",
      "-------------------------------------------------------------------------------\n",
      "Could not get profile URL for (00-0032626, G.Allison)\n",
      "-------------------------------------------------------------------------------\n",
      "Could not get profile URL for (00-0032741, P.Barber)\n",
      "-------------------------------------------------------------------------------\n",
      "Could not get profile URL for (00-0032602, J.McKissic)\n",
      "-------------------------------------------------------------------------------\n",
      "Could not get profile URL for (00-0031876, M.Wile)\n",
      "-------------------------------------------------------------------------------\n",
      "Could not get profile URL for (00-0032844, B.Burks)\n",
      "-------------------------------------------------------------------------------\n",
      "Could not get profile URL for (00-0033070, J.Elliott)\n",
      "-------------------------------------------------------------------------------\n",
      "Could not get profile URL for (00-0032781, M.Ioannidis)\n",
      "-------------------------------------------------------------------------------\n",
      "Could not get profile URL for (00-0032573, P.Onwuasor)\n",
      "-------------------------------------------------------------------------------\n",
      "Could not get profile URL for (00-0032365, D.Ayers)\n",
      "-------------------------------------------------------------------------------\n",
      "Could not get profile URL for (00-0031788, M.Lengel)\n",
      "-------------------------------------------------------------------------------\n",
      "Could not get profile URL for (00-0032362, M.Harris)\n",
      "-------------------------------------------------------------------------------\n",
      "Could not get profile URL for (00-0032064, D.Smelter)\n",
      "-------------------------------------------------------------------------------\n",
      "Could not get player info from roster row:\n",
      "\n",
      "<tr class=\"odd\">\n",
      "<td>72</td>\n",
      "<td style=\"text-align:left\"> <a href=\"/player/charleslenojr./2550169/profile\">Leno, Charles, Jr.</a></td>\n",
      "<td>T</td>\n",
      "<td>ACT</td>\n",
      "<td> 6'3\"</td>\n",
      "<td>305</td>\n",
      "<td>10/9/1991</td>\n",
      "<td>3</td>\n",
      "<td>Boise State</td></tr>\n",
      "\n",
      "Exception:\n",
      "\n",
      "Traceback (most recent call last):\n",
      "  File \"/opt/conda/envs/python2/lib/python2.7/site-packages/nflgame/update_players.py\", line 419, in run\n",
      "    roster.append(meta_from_soup_row(team, row))\n",
      "  File \"/opt/conda/envs/python2/lib/python2.7/site-packages/nflgame/update_players.py\", line 179, in meta_from_soup_row\n",
      "    last_name, first_name = map(lambda s: s.strip(), name.split(','))\n",
      "ValueError: too many values to unpack\n",
      "\n",
      "\n",
      "\n"
     ]
    }
   ],
   "source": [
    "#Update players\n",
    "!python2 /opt/conda/envs/python2/lib/python2.7/site-packages/nflgame/update_players.py"
   ]
  },
  {
   "cell_type": "code",
   "execution_count": 9,
   "metadata": {
    "collapsed": false,
    "scrolled": true
   },
   "outputs": [
    {
     "name": "stdout",
     "output_type": "stream",
     "text": [
      "-------------------------------------------------------------------------------\n",
      "STARTING NFLDB UPDATE AT 2017-01-12 21:15:32.698179\n",
      "Connecting to nfldb... done.\n",
      "Setting timezone to UTC... done.\n",
      "Locking write access to tables... done.\n",
      "Updating season phase, year and week... done.\n",
      "Bulk inserting data for 1 games...\n",
      "\tSending batch of data to database.\n",
      "done.\n",
      "Updating schedule JSON database...\n",
      "Last updated: 2017-01-12 21:11:06.681002\n",
      "done.\n",
      "Updating schedule for (Regular, 2016, 17)\n",
      "done.\n",
      "Closing database connection... done.\n",
      "FINISHED NFLDB UPDATE AT 2017-01-12 21:15:34.794536\n",
      "-------------------------------------------------------------------------------\n"
     ]
    }
   ],
   "source": [
    "#Run complete update, including players, games, and drives\n",
    "#You may need to run it a couple times\n",
    "!nfldb-update"
   ]
  },
  {
   "cell_type": "code",
   "execution_count": 7,
   "metadata": {
    "collapsed": false
   },
   "outputs": [
    {
     "name": "stdout",
     "output_type": "stream",
     "text": [
      "UPDATE 1278\r\n"
     ]
    }
   ],
   "source": [
    "#Address bug with Jacksonville team name\n",
    "!psql -U nfldb nfldb -c \"UPDATE play SET pos_team = 'JAC' WHERE pos_team = 'JAX';\""
   ]
  },
  {
   "cell_type": "code",
   "execution_count": 8,
   "metadata": {
    "collapsed": false
   },
   "outputs": [
    {
     "name": "stdout",
     "output_type": "stream",
     "text": [
      "DELETE 1\r\n"
     ]
    }
   ],
   "source": [
    "!psql -U nfldb nfldb -c \"DELETE FROM team WHERE team_id = 'JAX';\""
   ]
  }
 ],
 "metadata": {
  "kernelspec": {
   "display_name": "Python 2",
   "language": "python",
   "name": "python2"
  },
  "language_info": {
   "codemirror_mode": {
    "name": "ipython",
    "version": 2
   },
   "file_extension": ".py",
   "mimetype": "text/x-python",
   "name": "python",
   "nbconvert_exporter": "python",
   "pygments_lexer": "ipython2",
   "version": "2.7.12"
  }
 },
 "nbformat": 4,
 "nbformat_minor": 2
}
