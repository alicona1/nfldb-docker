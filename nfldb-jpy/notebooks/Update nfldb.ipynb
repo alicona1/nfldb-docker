{
 "cells": [
  {
   "cell_type": "code",
   "execution_count": 1,
   "metadata": {
    "collapsed": false
   },
   "outputs": [],
   "source": [
    "#Manually rebuild schedule\n",
    "!python2 /opt/conda/envs/python2/lib/python2.7/site-packages/nflgame/update_sched.py --rebuild"
   ]
  },
  {
   "cell_type": "code",
   "execution_count": 2,
   "metadata": {
    "collapsed": false,
    "scrolled": true
   },
   "outputs": [
    {
     "name": "stdout",
     "output_type": "stream",
     "text": [
      "-------------------------------------------------------------------------------\n",
      "STARTING NFLDB UPDATE AT 2017-01-16 21:14:39.445548\n",
      "Connecting to nfldb... done.\n",
      "Setting timezone to UTC... done.\n",
      "Updating schedule JSON database...\n",
      "Last updated: 2017-01-16 21:14:38.821980\n",
      "done.\n",
      "Updating all game schedules... Locking write access to tables... done.\n",
      "done.\n",
      "Closing database connection... done.\n",
      "FINISHED NFLDB UPDATE AT 2017-01-16 21:17:45.903224\n",
      "-------------------------------------------------------------------------------\n"
     ]
    }
   ],
   "source": [
    "#Update schedule in database\n",
    "!nfldb-update --update-schedules"
   ]
  },
  {
   "cell_type": "code",
   "execution_count": 3,
   "metadata": {
    "collapsed": false
   },
   "outputs": [
    {
     "name": "stdout",
     "output_type": "stream",
     "text": [
      "Loading games for REG 2016 week 17\n",
      "Downloading team rosters...\n",
      "32/32 complete. (100.00%)\n",
      "Done!\n",
      "\n",
      "\n",
      "There were some errors during the download. Usually this is a\n",
      "result of an HTTP request timing out, which means the\n",
      "resulting \"players.json\" file is probably missing some data.\n",
      "An appropriate solution is to re-run the script until there\n",
      "are no more errors (or when the errors are problems on \n",
      "NFL.com side.)\n",
      "-------------------------------------------------------------------------------\n",
      "Could not get player info from roster row:\n",
      "\n",
      "<tr class=\"odd\">\n",
      "<td>72</td>\n",
      "<td style=\"text-align:left\"> <a href=\"/player/charleslenojr./2550169/profile\">Leno, Charles, Jr.</a></td>\n",
      "<td>T</td>\n",
      "<td>ACT</td>\n",
      "<td> 6'3\"</td>\n",
      "<td>305</td>\n",
      "<td>10/9/1991</td>\n",
      "<td>3</td>\n",
      "<td>Boise State</td></tr>\n",
      "\n",
      "Exception:\n",
      "\n",
      "Traceback (most recent call last):\n",
      "  File \"/opt/conda/envs/python2/lib/python2.7/site-packages/nflgame/update_players.py\", line 419, in run\n",
      "    roster.append(meta_from_soup_row(team, row))\n",
      "  File \"/opt/conda/envs/python2/lib/python2.7/site-packages/nflgame/update_players.py\", line 179, in meta_from_soup_row\n",
      "    last_name, first_name = map(lambda s: s.strip(), name.split(','))\n",
      "ValueError: too many values to unpack\n",
      "\n",
      "\n",
      "\n"
     ]
    }
   ],
   "source": [
    "#Update players\n",
    "!python2 /opt/conda/envs/python2/lib/python2.7/site-packages/nflgame/update_players.py"
   ]
  },
  {
   "cell_type": "code",
   "execution_count": 4,
   "metadata": {
    "collapsed": false,
    "scrolled": true
   },
   "outputs": [
    {
     "name": "stdout",
     "output_type": "stream",
     "text": [
      "-------------------------------------------------------------------------------\n",
      "STARTING NFLDB UPDATE AT 2017-01-16 21:17:53.896655\n",
      "Connecting to nfldb... done.\n",
      "Setting timezone to UTC... done.\n",
      "Locking write access to tables... done.\n",
      "Updating season phase, year and week... done.\n",
      "Bulk inserting data for 1 games...\n",
      "\tSending batch of data to database.\n",
      "done.\n",
      "Updating schedule JSON database...\n",
      "Last updated: 2017-01-16 21:14:39.877792\n",
      "done.\n",
      "Updating schedule for (Regular, 2016, 17)\n",
      "done.\n",
      "Closing database connection... done.\n",
      "FINISHED NFLDB UPDATE AT 2017-01-16 21:17:55.669047\n",
      "-------------------------------------------------------------------------------\n"
     ]
    }
   ],
   "source": [
    "#Run complete update, including players, games, and drives\n",
    "#You may need to run it a couple times\n",
    "!nfldb-update"
   ]
  },
  {
   "cell_type": "code",
   "execution_count": 5,
   "metadata": {
    "collapsed": false
   },
   "outputs": [
    {
     "name": "stdout",
     "output_type": "stream",
     "text": [
      "UPDATE 0\r\n"
     ]
    }
   ],
   "source": [
    "#Address bug with Jacksonville team name\n",
    "!psql -U nfldb nfldb -c \"UPDATE play SET pos_team = 'JAC' WHERE pos_team = 'JAX';\""
   ]
  },
  {
   "cell_type": "code",
   "execution_count": 6,
   "metadata": {
    "collapsed": false
   },
   "outputs": [
    {
     "name": "stdout",
     "output_type": "stream",
     "text": [
      "DELETE 0\r\n"
     ]
    }
   ],
   "source": [
    "!psql -U nfldb nfldb -c \"DELETE FROM team WHERE team_id = 'JAX';\""
   ]
  }
 ],
 "metadata": {
  "kernelspec": {
   "display_name": "Python 2",
   "language": "python",
   "name": "python2"
  },
  "language_info": {
   "codemirror_mode": {
    "name": "ipython",
    "version": 2
   },
   "file_extension": ".py",
   "mimetype": "text/x-python",
   "name": "python",
   "nbconvert_exporter": "python",
   "pygments_lexer": "ipython2",
   "version": "2.7.12"
  }
 },
 "nbformat": 4,
 "nbformat_minor": 2
}
