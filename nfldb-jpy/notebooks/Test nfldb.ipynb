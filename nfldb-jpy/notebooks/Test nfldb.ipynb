{
 "cells": [
  {
   "cell_type": "code",
   "execution_count": null,
   "metadata": {
    "collapsed": false
   },
   "outputs": [],
   "source": [
    "import nfldb"
   ]
  },
  {
   "cell_type": "code",
   "execution_count": null,
   "metadata": {
    "collapsed": false
   },
   "outputs": [],
   "source": [
    "#Check to see if initial load was completed\n",
    "\n",
    "db = nfldb.connect()\n",
    "q = nfldb.Query(db)\n",
    "\n",
    "q.game(season_year=2015, season_type='Postseason')\n",
    "for pp in q.sort('passing_yds').limit(10).as_aggregate():\n",
    "    print pp.player, pp.passing_yds"
   ]
  },
  {
   "cell_type": "code",
   "execution_count": null,
   "metadata": {
    "collapsed": false,
    "scrolled": true
   },
   "outputs": [],
   "source": [
    "#Check to see if the schedule has been updated. If scores are 0 then we need to update the database\n",
    "q = nfldb.Query(db)\n",
    "q.game(season_year=2016).game(season_type='Regular').game(week=17)\n",
    "for g in q.as_games():\n",
    "    print g"
   ]
  },
  {
   "cell_type": "code",
   "execution_count": null,
   "metadata": {
    "collapsed": false
   },
   "outputs": [],
   "source": [
    "#Check if postseason 2016 data is loaded\n",
    "q = nfldb.Query(db)\n",
    "q.game(season_year=2016).game(season_type='Postseason').game\n",
    "for g in q.as_games():\n",
    "    print g"
   ]
  },
  {
   "cell_type": "code",
   "execution_count": null,
   "metadata": {
    "collapsed": false
   },
   "outputs": [],
   "source": [
    "#Check if postseason 2016 play data is loaded\n",
    "db = nfldb.connect()\n",
    "q = nfldb.Query(db)\n",
    "\n",
    "q.game(season_year=2016, season_type='Postseason')\n",
    "for pp in q.sort('passing_yds').limit(10).as_aggregate():\n",
    "    print pp.player, pp.passing_yds"
   ]
  }
 ],
 "metadata": {
  "kernelspec": {
   "display_name": "Python 2",
   "language": "python",
   "name": "python2"
  },
  "language_info": {
   "codemirror_mode": {
    "name": "ipython",
    "version": 2
   },
   "file_extension": ".py",
   "mimetype": "text/x-python",
   "name": "python",
   "nbconvert_exporter": "python",
   "pygments_lexer": "ipython2",
   "version": "2.7.12"
  }
 },
 "nbformat": 4,
 "nbformat_minor": 2
}
