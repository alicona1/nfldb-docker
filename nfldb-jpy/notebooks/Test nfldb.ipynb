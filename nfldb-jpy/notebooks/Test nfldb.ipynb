{
 "cells": [
  {
   "cell_type": "code",
   "execution_count": 1,
   "metadata": {
    "collapsed": false
   },
   "outputs": [],
   "source": [
    "import nfldb"
   ]
  },
  {
   "cell_type": "code",
   "execution_count": 2,
   "metadata": {
    "collapsed": false
   },
   "outputs": [
    {
     "name": "stdout",
     "output_type": "stream",
     "text": [
      "Cam Newton (CAR, QB) 761\n",
      "Tom Brady (NE, QB) 612\n",
      "Carson Palmer (ARI, QB) 584\n",
      "Ben Roethlisberger (PIT, QB) 568\n",
      "Peyton Manning (UNK, UNK) 539\n",
      "Russell Wilson (SEA, QB) 508\n",
      "Aaron Rodgers (GB, QB) 471\n",
      "Alex Smith (KC, QB) 436\n",
      "Kirk Cousins (WAS, QB) 329\n",
      "AJ McCarron (CIN, QB) 212\n"
     ]
    }
   ],
   "source": [
    "#Check to see if initial load was completed\n",
    "\n",
    "db = nfldb.connect()\n",
    "q = nfldb.Query(db)\n",
    "\n",
    "q.game(season_year=2015, season_type='Postseason')\n",
    "for pp in q.sort('passing_yds').limit(10).as_aggregate():\n",
    "    print pp.player, pp.passing_yds"
   ]
  },
  {
   "cell_type": "code",
   "execution_count": 3,
   "metadata": {
    "collapsed": false,
    "scrolled": true
   },
   "outputs": [
    {
     "name": "stdout",
     "output_type": "stream",
     "text": [
      "Regular 2016 week 17 on 01/01 at 12:00PM, BAL (10) at CIN (27)\n",
      "Regular 2016 week 17 on 01/01 at 03:25PM, NO (32) at ATL (38)\n",
      "Regular 2016 week 17 on 01/01 at 03:25PM, SEA (25) at SF (23)\n",
      "Regular 2016 week 17 on 01/01 at 03:25PM, KC (37) at SD (27)\n",
      "Regular 2016 week 17 on 01/01 at 03:25PM, ARI (44) at LA (6)\n",
      "Regular 2016 week 17 on 01/01 at 03:25PM, OAK (6) at DEN (24)\n",
      "Regular 2016 week 17 on 01/01 at 03:25PM, NYG (19) at WAS (10)\n",
      "Regular 2016 week 17 on 01/01 at 12:00PM, HOU (17) at TEN (24)\n",
      "Regular 2016 week 17 on 01/01 at 12:00PM, CAR (16) at TB (17)\n",
      "Regular 2016 week 17 on 01/01 at 12:00PM, CLE (24) at PIT (27)\n",
      "Regular 2016 week 17 on 01/01 at 12:00PM, DAL (13) at PHI (27)\n",
      "Regular 2016 week 17 on 01/01 at 12:00PM, BUF (10) at NYJ (30)\n",
      "Regular 2016 week 17 on 01/01 at 12:00PM, CHI (10) at MIN (38)\n",
      "Regular 2016 week 17 on 01/01 at 12:00PM, NE (35) at MIA (14)\n",
      "Regular 2016 week 17 on 01/01 at 12:00PM, JAC (20) at IND (24)\n",
      "Regular 2016 week 17 on 01/01 at 07:30PM, GB (31) at DET (24)\n"
     ]
    }
   ],
   "source": [
    "#Check to see if the scheuld has been updated. If scores are 0 then we need to update the database\n",
    "q = nfldb.Query(db)\n",
    "q.game(season_year=2016).game(season_type='Regular').game(week=17)\n",
    "for g in q.as_games():\n",
    "    print g"
   ]
  },
  {
   "cell_type": "code",
   "execution_count": 4,
   "metadata": {
    "collapsed": false
   },
   "outputs": [
    {
     "name": "stdout",
     "output_type": "stream",
     "text": [
      "Postseason 2016 week 1 on 01/08 at 03:40PM, NYG (13) at GB (38)\n",
      "Postseason 2016 week 1 on 01/08 at 12:05PM, MIA (12) at PIT (30)\n",
      "Postseason 2016 week 1 on 01/07 at 07:15PM, DET (6) at SEA (26)\n",
      "Postseason 2016 week 2 on 01/15 at 03:40PM, GB (0) at DAL (0)\n",
      "Postseason 2016 week 2 on 01/15 at 12:05PM, PIT (0) at KC (0)\n",
      "Postseason 2016 week 2 on 01/14 at 07:15PM, HOU (0) at NE (0)\n",
      "Postseason 2016 week 2 on 01/14 at 03:35PM, SEA (0) at ATL (0)\n",
      "Postseason 2016 week 1 on 01/07 at 03:35PM, OAK (14) at HOU (27)\n"
     ]
    }
   ],
   "source": [
    "#Check if postseason 2016 data is loaded\n",
    "q = nfldb.Query(db)\n",
    "q.game(season_year=2016).game(season_type='Postseason').game\n",
    "for g in q.as_games():\n",
    "    print g"
   ]
  },
  {
   "cell_type": "code",
   "execution_count": 5,
   "metadata": {
    "collapsed": false
   },
   "outputs": [
    {
     "name": "stdout",
     "output_type": "stream",
     "text": [
      "Aaron Rodgers (GB, QB) 362\n",
      "Eli Manning (NYG, QB) 299\n",
      "Matt Moore (MIA, QB) 289\n",
      "Russell Wilson (SEA, QB) 224\n",
      "Matthew Stafford (DET, QB) 205\n",
      "Ben Roethlisberger (PIT, QB) 197\n",
      "Brock Osweiler (HOU, QB) 168\n",
      "Connor Cook (OAK, QB) 161\n",
      "Antonio Smith (HOU, DE) 0\n",
      "James Harrison (PIT, OLB) 0\n"
     ]
    }
   ],
   "source": [
    "#Check if postseason 2016 play data is loaded\n",
    "db = nfldb.connect()\n",
    "q = nfldb.Query(db)\n",
    "\n",
    "q.game(season_year=2016, season_type='Postseason')\n",
    "for pp in q.sort('passing_yds').limit(10).as_aggregate():\n",
    "    print pp.player, pp.passing_yds"
   ]
  }
 ],
 "metadata": {
  "kernelspec": {
   "display_name": "Python 2",
   "language": "python",
   "name": "python2"
  },
  "language_info": {
   "codemirror_mode": {
    "name": "ipython",
    "version": 2
   },
   "file_extension": ".py",
   "mimetype": "text/x-python",
   "name": "python",
   "nbconvert_exporter": "python",
   "pygments_lexer": "ipython2",
   "version": "2.7.12"
  }
 },
 "nbformat": 4,
 "nbformat_minor": 2
}
